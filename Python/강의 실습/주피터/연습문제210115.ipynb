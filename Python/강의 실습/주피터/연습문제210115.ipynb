{
 "cells": [
  {
   "cell_type": "code",
   "execution_count": null,
   "metadata": {},
   "outputs": [],
   "source": [
    "###############  1.(1) 음수가 아닌 수들( 앞뒤 바꿀 수 있을 때) ###############"
   ]
  },
  {
   "cell_type": "code",
   "execution_count": 84,
   "metadata": {},
   "outputs": [],
   "source": [
    "def biggestNum(numlist):\n",
    "    import itertools\n",
    "    bignums=[]\n",
    "    pmt=[]\n",
    "    for i in numlist:\n",
    "        bignums.append(max(i, int(str(i)[::-1])))\n",
    "    for i in itertools.permutations(bignums):\n",
    "        pmt.append(int(\"\".join(map(str,i))))\n",
    "    print(max(pmt))"
   ]
  },
  {
   "cell_type": "code",
   "execution_count": 85,
   "metadata": {
    "scrolled": false
   },
   "outputs": [
    {
     "name": "stdout",
     "output_type": "stream",
     "text": [
      "9543330\n"
     ]
    }
   ],
   "source": [
    "num = [3, 30, 34, 5, 9]\n",
    "biggestNum(num)"
   ]
  },
  {
   "cell_type": "code",
   "execution_count": null,
   "metadata": {},
   "outputs": [],
   "source": [
    "###############  1.(2) 음수가 아닌 수들( 앞뒤 못 바꿀 때) ###############"
   ]
  },
  {
   "cell_type": "code",
   "execution_count": null,
   "metadata": {},
   "outputs": [],
   "source": [
    "def biggestNum(numlist):\n",
    "    import itertools\n",
    "    pmt=[]\n",
    "    for i in itertools.permutations(numlist):\n",
    "        pmt.append(int(\"\".join(map(str, i))))\n",
    "    print(max(pmt))"
   ]
  },
  {
   "cell_type": "code",
   "execution_count": null,
   "metadata": {},
   "outputs": [],
   "source": [
    "num = [3, 30, 34, 5, 9,1542,7842,447,12]\n",
    "biggestNum(num)"
   ]
  },
  {
   "cell_type": "code",
   "execution_count": 88,
   "metadata": {
    "scrolled": true
   },
   "outputs": [],
   "source": [
    "################### 2. 넓이 ######################"
   ]
  },
  {
   "cell_type": "code",
   "execution_count": 39,
   "metadata": {},
   "outputs": [],
   "source": [
    "def squareArea(a,b,c,d):\n",
    "    allsq=[a,b,c,d]\n",
    "    sqarea=set()\n",
    "    for sq in allsq:\n",
    "        for x in range(sq[0],sq[2]):\n",
    "            for y in range(sq[1],sq[3]):\n",
    "                sqarea.add((x,y))\n",
    "    print(len(sqarea))"
   ]
  },
  {
   "cell_type": "code",
   "execution_count": 40,
   "metadata": {},
   "outputs": [
    {
     "name": "stdout",
     "output_type": "stream",
     "text": [
      "26\n"
     ]
    }
   ],
   "source": [
    "a = [1, 2, 4, 4]\n",
    "b = [2, 3, 5, 7]\n",
    "c = [3, 1, 6, 5]\n",
    "d = [7, 3, 8, 6]\n",
    "squareArea(a,b,c,d)"
   ]
  },
  {
   "cell_type": "code",
   "execution_count": null,
   "metadata": {
    "scrolled": true
   },
   "outputs": [],
   "source": [
    "################### 3. 제목 ######################"
   ]
  },
  {
   "cell_type": "code",
   "execution_count": 11,
   "metadata": {},
   "outputs": [],
   "source": [
    "def getTitle():\n",
    "    from selenium import webdriver\n",
    "    from bs4 import BeautifulSoup\n",
    "    driver=webdriver.Chrome(\"c:/scrap/chromedriver.exe\")\n",
    "    driver.get(\"https://stackoverflow.com/questions/tagged/python\")\n",
    "    html=driver.page_source\n",
    "    soup=BeautifulSoup(html, \"html.parser\")\n",
    "    title_list=soup.select(\"a.question-hyperlink\")[:15]\n",
    "    for i in range(len(title_list)):\n",
    "        title=title_list[i].text\n",
    "        print(i+1,\".\",title)\n",
    "        print(\"=\"*50)"
   ]
  },
  {
   "cell_type": "code",
   "execution_count": 12,
   "metadata": {
    "collapsed": true
   },
   "outputs": [
    {
     "name": "stdout",
     "output_type": "stream",
     "text": [
      "1 . Display output in different widgets from two different threads\n",
      "==================================================\n",
      "2 . Python program to repaint screen content\n",
      "==================================================\n",
      "3 . python web parsing, I wonder what kind of this document is\n",
      "==================================================\n",
      "4 . train CNN 2 branch with gradianttape\n",
      "==================================================\n",
      "5 . Python import from submodule of package exported by another file\n",
      "==================================================\n",
      "6 . Unable to click and hold on an element on mouse hover\n",
      "==================================================\n",
      "7 . Mongoengine - Can I get the same document object instance from two subsequent querries?\n",
      "==================================================\n",
      "8 . How to set cookie in graphene django resolver?\n",
      "==================================================\n",
      "9 . AuthFailed at /social-auth/complete/linkedin-oauth2/\n",
      "==================================================\n",
      "10 . Generate multine line YAML with Ansible jinja filter to_yaml\n",
      "==================================================\n",
      "11 . How to find nodes to remove to isolate all other nodes in NetworkX?\n",
      "==================================================\n",
      "12 . PyInstaller not working Windows. Hooks error?\n",
      "==================================================\n",
      "13 . pipenv deleted libraries from my virtual environment?\n",
      "==================================================\n",
      "14 . How to check if a variable is string or integer? [duplicate]\n",
      "==================================================\n",
      "15 . Regular Expression to extract quantity with dimensions from text in Python\n",
      "==================================================\n"
     ]
    }
   ],
   "source": [
    "getTitle()"
   ]
  },
  {
   "cell_type": "code",
   "execution_count": null,
   "metadata": {},
   "outputs": [],
   "source": [
    "################### 4. 영화 리뷰 제목 ######################"
   ]
  },
  {
   "cell_type": "code",
   "execution_count": 55,
   "metadata": {},
   "outputs": [],
   "source": [
    "def getReview(movie_name,page_num):\n",
    "    from selenium import webdriver\n",
    "    from bs4 import BeautifulSoup\n",
    "    \n",
    "    driver=webdriver.Chrome(\"c:/scrap/chromedriver.exe\")\n",
    "    driver.get(\"https://movie.naver.com/movie/running/current.nhn\")\n",
    "    input_movie=driver.find_elements_by_css_selector(\"#ipt_tx_srch\")[0]\n",
    "    input_movie.clear()\n",
    "    input_movie.send_keys(movie_name)\n",
    "    driver.find_element_by_css_selector(\"#jSearchArea > div > button\").click()\n",
    "    driver.find_element_by_css_selector(\"#old_content > ul:nth-child(4) > li:nth-child(1) > p > a > img\").click()\n",
    "    driver.find_element_by_css_selector(\"#movieEndTabMenu > li:nth-child(6) > a\").click()\n",
    "    driver.find_element_by_css_selector(\"#pagerTagAnchor1 > span\").click()\n",
    "    currenturl=driver.current_url\n",
    "    \n",
    "    for i in range(1,page_num+1):\n",
    "        currenturls=currenturl[:len(currenturl)-1]+str(i)\n",
    "        driver.get(currenturls)\n",
    "        html=driver.page_source\n",
    "        soup=BeautifulSoup(html, \"html.parser\")\n",
    "        title_list=soup.select(\"ul.rvw_list_area > li > a\")\n",
    "        for i in range(len(title_list)):\n",
    "            print(title_list[i].text)\n",
    "            print(\"=\"*50)"
   ]
  },
  {
   "cell_type": "code",
   "execution_count": 57,
   "metadata": {},
   "outputs": [
    {
     "name": "stdout",
     "output_type": "stream",
     "text": [
      "우리는 동물원을 샀다 : 실화에 입각한 기발한 영화!\n",
      "==================================================\n",
      "우리는 동물원을 샀다 : 묘하게 가슴 벅차 오르는 영화.. ^^\n",
      "==================================================\n",
      "딸을 위해 이사한 집? 알고 보니 동물원! 그래도 아빠는 행복해! 영화 우리는 동물원을 샀다 맷 데이먼, 스칼렛 요한슨, 콜린 포드, 매기 엘리자베스 존스, 스테파니 스조스택,  \n",
      "==================================================\n",
      "[bluemind]어린적 추억을 생각하며 동물원이나 가볼까.\n",
      "==================================================\n",
      "「우리는 동물원을 샀다」\n",
      "==================================================\n",
      "[우리는동물원을샀다]휴머니즘 넘치는 용기로 자연과 함께 사는 삶.\n",
      "==================================================\n",
      "동물원 알바생입니다.. 영화보고 빡쳤습니다..\n",
      "==================================================\n",
      "난 이영화가 싫다.\n",
      "==================================================\n",
      "가족 힐링을 위한 따뜻한 슬로우 무비 -- 나도 동물원 집에 살고 싶다.\n",
      "==================================================\n",
      "[에디손의영화공작소]우리는 동물원을 샀다(2011)\n",
      "==================================================\n",
      "<우리는동물원을샀다> 상실의 시간을 받아들이고 다시 일어서기\n",
      "==================================================\n",
      "안될 거 없지, 용기를 내봐, <우리는 동물원을 샀다>\n",
      "==================================================\n",
      "'우리는 동물원을 샀다'를 보고\n",
      "==================================================\n",
      "20초만 미쳤다고 생각하고 용기를 내봐.\n",
      "==================================================\n",
      "휴식과도 같은 행복한 영화..\n",
      "==================================================\n",
      "너무 많은 것을 다루려하지 않았나.\n",
      "==================================================\n",
      "[영화] 우리는 동물원을 샀다 (WE BOUGHT A ZOO, 2011)\n",
      "==================================================\n",
      "[우리는 동물원을 샀다]  상실에 대처하는 우리의 자세\n",
      "==================================================\n",
      "[ 볼만한 영화추천 ] 우리는 동물원을 샀다 - 멧 데이먼, 스칼렛 요한슨, 엘르 패닝 주연, 아이들과 함께 볼만한 가족 영화\n",
      "==================================================\n",
      "<우리는 동물원을 샀다> : 어쩌다 산 동물원에서 모든 것을 얻다\n",
      "==================================================\n",
      "<우리는 동물원을 샀다> 긍정의 에너지를 물씬 느낄 수 있는 좋은 영화 !\n",
      "==================================================\n",
      "우리는 동물원을 샀다 ‘희망과 감동의 유쾌한 휴먼드라마’\n",
      "==================================================\n",
      "우리는 동물원을 샀다. 카메론 크로우 감독 맷 데이먼 스칼렛 요한슨 2012 가족 코미디\n",
      "==================================================\n",
      "[영화] 우리는 동물원을 샀다 ─ 20초의 용기\n",
      "==================================================\n",
      "영화 우리는 동물원을 샀다 (WE BOUGHT A ZOO, 2011)\n",
      "==================================================\n",
      "상실과 결핍을 치유하는 삶의 아름다운 순간들, <우리는 동물원을 샀다>\n",
      "==================================================\n",
      "<우리는 동물원을 샀다> 담백하고 소박한 스토리가 만들어 낸 감동의 울림\n",
      "==================================================\n",
      "우리는 동물원을 샀다 - 힐링은 누구나 필요하다\n",
      "==================================================\n",
      "■우리는..대박이다(우리는동물원을샀다의 탄탄스토리■\n",
      "==================================================\n",
      "우리는 동물원을 샀다\n",
      "==================================================\n",
      "[영화시사회] 최신영화 '우리는 동물원을 샀다'\n",
      "==================================================\n",
      "우리는동물원을샀다 리뷰, 스포일러X ( WE BOUGHT A ZOO, 2011 )\n",
      "==================================================\n",
      "훈훈한 휴먼드라마..애니멀 드라마?\n",
      "==================================================\n",
      "가족영화! 우리는 동물원을 샀다 명대사!!줄거리!!\n",
      "==================================================\n",
      "thanks daddy!\n",
      "==================================================\n",
      "[Movie] 우리는 동물원을 샀다\n",
      "==================================================\n",
      "말(言)이 힘이 되고 의지가 되고 인생이 되는 이야기\n",
      "==================================================\n",
      "스칼렛요한슨은 뭘해도이쁘다.;;[우리는동물원을샀다]\n",
      "==================================================\n",
      "꾸미지 않아도 우리의 삶은 충분히 감동적이다.\n",
      "==================================================\n",
      "우리는 동물원을 샀다\n",
      "==================================================\n",
      "우리는 동물원을 샀다\n",
      "==================================================\n",
      "우리는 동물원을 샀다(We bought a zoo)\n",
      "==================================================\n",
      "We bought a Zoo < \"Why Not?\" > - 때로는 압축된 한마디가 빙하를 녹일수 있다 \n",
      "==================================================\n",
      "우리는 동물원을 샀다(We Bought a Zoo,2011)\n",
      "==================================================\n",
      "영화 우리는 동물원을 샀다 후기\n",
      "==================================================\n",
      "우리는 동물원을 샀다 WE BOUGHT A ZOO, 2011\n",
      "==================================================\n",
      "영화 우리는 동물원을 샀다.\n",
      "==================================================\n",
      "[영화리뷰] 우리는 동물원을 샀다 (2011) - 아픔을 딛고 일어서는 모두에게 전하고자하는 이야기\n",
      "==================================================\n",
      "[맷데이먼, 스칼렛요한슨, 글구 엘르패닝이란 빵빵한 캐스팅! 실화라고 믿기 힘든, 그래서 더욱 격하게 감동적인 작품! 정말..동물원 살라구?] 우리는 동물원을 샀다 (WE BOUG\n",
      "==================================================\n",
      "이 영화가 지루하다면 ㅎ ㅋ 허허  단시는 전산이 아냐 .\n",
      "==================================================\n"
     ]
    }
   ],
   "source": [
    "getReview(\"우리는 동물원을 샀다\",5)"
   ]
  },
  {
   "cell_type": "code",
   "execution_count": null,
   "metadata": {},
   "outputs": [],
   "source": []
  },
  {
   "cell_type": "code",
   "execution_count": null,
   "metadata": {},
   "outputs": [],
   "source": []
  },
  {
   "cell_type": "code",
   "execution_count": null,
   "metadata": {},
   "outputs": [],
   "source": []
  },
  {
   "cell_type": "code",
   "execution_count": null,
   "metadata": {},
   "outputs": [],
   "source": [
    "res = (list(map(int, input().split())))\n",
    "allsq=list()\n",
    "sqarea=set()\n",
    "for i in range(4):\n",
    "    allsq.append(res[(4*i):4+(4*i)])\n",
    "for sq in allsq:\n",
    "    for x in range(sq[0],sq[2]):\n",
    "        for y in range(sq[1],sq[3]):\n",
    "            sqarea.add((x,y))\n",
    "print(len(sqarea))"
   ]
  },
  {
   "cell_type": "code",
   "execution_count": null,
   "metadata": {},
   "outputs": [],
   "source": []
  },
  {
   "cell_type": "code",
   "execution_count": null,
   "metadata": {},
   "outputs": [],
   "source": []
  },
  {
   "cell_type": "code",
   "execution_count": null,
   "metadata": {},
   "outputs": [],
   "source": []
  },
  {
   "cell_type": "code",
   "execution_count": null,
   "metadata": {},
   "outputs": [],
   "source": []
  },
  {
   "cell_type": "code",
   "execution_count": null,
   "metadata": {},
   "outputs": [],
   "source": []
  },
  {
   "cell_type": "code",
   "execution_count": null,
   "metadata": {},
   "outputs": [],
   "source": []
  },
  {
   "cell_type": "code",
   "execution_count": 56,
   "metadata": {},
   "outputs": [],
   "source": [
    "def getTitle():\n",
    "    from selenium import webdriver\n",
    "    from bs4 import BeautifulSoup\n",
    "\n",
    "    driver = webdriver.Chrome(\"c:/scrap/chromedriver.exe\")\n",
    "    driver.get(\"https://stackoverflow.com/questions/tagged/python\")\n",
    "    html = driver.page_source\n",
    "    soup = BeautifulSoup(html, \"html.parser\")\n",
    "    title_list=soup.select(\"a.question-hyperlink\")[:15]\n",
    "\n",
    "    for i in range(len(title_list)):\n",
    "        title = title_list[i].text\n",
    "        print(title)\n",
    "        print(\"=\"*50)"
   ]
  },
  {
   "cell_type": "code",
   "execution_count": 57,
   "metadata": {},
   "outputs": [
    {
     "name": "stdout",
     "output_type": "stream",
     "text": [
      "Online data augmentation cannot “increase dataset size” on the fly?\n",
      "==================================================\n",
      "Comparing two cell values and extracting the difference\n",
      "==================================================\n",
      "K’th Non-repeating Character [closed]\n",
      "==================================================\n",
      "Fromatting axis label in a subplot with fit matplotlib\n",
      "==================================================\n",
      "Noisy 3D point cloud to interpolated surface mesh in python\n",
      "==================================================\n",
      "UnicodeDecodeError: 'utf-8' codec can't decode byte 0xfe in position 341: invalid start byte\n",
      "==================================================\n",
      "Understanding Leaky ReLU Derivative with Notation\n",
      "==================================================\n",
      "Why are the buttons in my Python Tkinter Stone, Paper, Scissor app working erratically?\n",
      "==================================================\n",
      "My flask app does not work on the Heroku server\n",
      "==================================================\n",
      "How to dynamically take data into byte-array in python and do the modulation?\n",
      "==================================================\n",
      "Iterating over a list made up of distinct dataframes\n",
      "==================================================\n",
      "Interate through user inputs for random forest classifier\n",
      "==================================================\n",
      "Improving efficiency of Keras TimeSeries generator?\n",
      "==================================================\n",
      "Why am i getting the valueerror?\n",
      "==================================================\n",
      "Converting PandasSeries to DataFrames\n",
      "==================================================\n"
     ]
    }
   ],
   "source": [
    "getTitle()"
   ]
  },
  {
   "cell_type": "code",
   "execution_count": null,
   "metadata": {},
   "outputs": [],
   "source": []
  },
  {
   "cell_type": "code",
   "execution_count": null,
   "metadata": {},
   "outputs": [],
   "source": [
    "def biggestNum(numlist):\n",
    "    import itertools\n",
    "    pmt=[]\n",
    "    for i in itertools.permutations(numlist):\n",
    "        pmt.append(int(\"\".join(map(str, i))))\n",
    "    print(max(pmt))\n",
    "\n",
    "\n",
    "num = [3, 30, 34, 5, 9]\n",
    "biggestNum(num)"
   ]
  },
  {
   "cell_type": "code",
   "execution_count": null,
   "metadata": {},
   "outputs": [],
   "source": []
  },
  {
   "cell_type": "code",
   "execution_count": 77,
   "metadata": {
    "scrolled": false
   },
   "outputs": [
    {
     "name": "stdout",
     "output_type": "stream",
     "text": [
      "[9]\n",
      "[9]\n",
      "[]\n",
      "[9]\n",
      "[]\n",
      "[9]\n",
      "[]\n",
      "[9]\n",
      "[5]\n",
      "[9, 5]\n",
      "[]\n",
      "[9, 5]\n",
      "[3, 30, 34]\n",
      "[9, 5, 3, 30, 34]\n",
      "[]\n",
      "[9, 5, 3, 30, 34]\n",
      "[]\n",
      "[9, 5, 3, 30, 34]\n"
     ]
    }
   ],
   "source": [
    "num = [3, 30, 34, 5, 9]\n",
    "numnum=[]\n",
    "trueroom=[]\n",
    "for x in range(9,0,-1):\n",
    "    for y in num:\n",
    "        if int(str(y)[0])==x:\n",
    "            trueroom.append(y)\n",
    "    print(trueroom)\n",
    "    numnum.extend(trueroom)\n",
    "    print(numnum)\n",
    "    trueroom.clear()\n",
    "# print(numnum)\n",
    "# max(map(lambda x: len(str(x)), trueroom))\n",
    "\n",
    "\n",
    "\n",
    "\n",
    "\n",
    "\n",
    "# print(max(len((str, num))))\n",
    "# num.clear()\n",
    "# print(num)\n",
    "    \n",
    "    \n",
    "    \n",
    "#             numnum.append(y)\n",
    "# for x in numnum:\n",
    "#     for y in range(len(str(x))):\n",
    "#         if int(str(x)[y])==\n",
    "# #             num.remove(y)\n",
    "# print(numnum)\n",
    "        \n",
    "        \n",
    "        \n",
    "        \n",
    "#         for z in range(len(str(y))):\n",
    "#             print(z)\n",
    "#             if int(str(y)[z])==x:\n",
    "#                 if len(str(y))==1:\n",
    "#                     numnum.append(y)\n",
    "# #                 else:\n",
    "#                     if \n",
    "                \n",
    "                \n",
    "                    \n",
    "                \n",
    "            \n",
    "#             numnum.append(i)\n",
    "# print(numnum)"
   ]
  },
  {
   "cell_type": "code",
   "execution_count": 40,
   "metadata": {},
   "outputs": [
    {
     "data": {
      "text/plain": [
       "[0, 1, 4, 9, 16]"
      ]
     },
     "execution_count": 40,
     "metadata": {},
     "output_type": "execute_result"
    }
   ],
   "source": [
    "list(map(lambda x: x ** 2, range(5)))"
   ]
  },
  {
   "cell_type": "code",
   "execution_count": null,
   "metadata": {},
   "outputs": [],
   "source": [
    "print(map(lamda x: x*2, range(4)))"
   ]
  },
  {
   "cell_type": "code",
   "execution_count": 80,
   "metadata": {},
   "outputs": [
    {
     "ename": "IndexError",
     "evalue": "string index out of range",
     "output_type": "error",
     "traceback": [
      "\u001b[1;31m---------------------------------------------------------------------------\u001b[0m",
      "\u001b[1;31mIndexError\u001b[0m                                Traceback (most recent call last)",
      "\u001b[1;32m<ipython-input-80-f5147853b799>\u001b[0m in \u001b[0;36m<module>\u001b[1;34m\u001b[0m\n\u001b[0;32m      1\u001b[0m \u001b[0ma\u001b[0m\u001b[1;33m=\u001b[0m\u001b[1;36m34\u001b[0m\u001b[1;33m\u001b[0m\u001b[1;33m\u001b[0m\u001b[0m\n\u001b[0;32m      2\u001b[0m \u001b[0mb\u001b[0m\u001b[1;33m=\u001b[0m\u001b[1;36m33\u001b[0m\u001b[1;33m\u001b[0m\u001b[1;33m\u001b[0m\u001b[0m\n\u001b[1;32m----> 3\u001b[1;33m \u001b[1;32mif\u001b[0m \u001b[0mstr\u001b[0m\u001b[1;33m(\u001b[0m\u001b[0ma\u001b[0m\u001b[1;33m)\u001b[0m\u001b[1;33m[\u001b[0m\u001b[1;36m3\u001b[0m\u001b[1;33m]\u001b[0m\u001b[1;33m>\u001b[0m\u001b[1;36m0\u001b[0m\u001b[1;33m:\u001b[0m\u001b[1;33m\u001b[0m\u001b[1;33m\u001b[0m\u001b[0m\n\u001b[0m\u001b[0;32m      4\u001b[0m     \u001b[0mprint\u001b[0m\u001b[1;33m(\u001b[0m\u001b[0ma\u001b[0m\u001b[1;33m)\u001b[0m\u001b[1;33m\u001b[0m\u001b[1;33m\u001b[0m\u001b[0m\n",
      "\u001b[1;31mIndexError\u001b[0m: string index out of range"
     ]
    }
   ],
   "source": [
    "a=34\n",
    "b=33\n",
    "if str(a)[3]>0:\n",
    "    print(a)"
   ]
  },
  {
   "cell_type": "code",
   "execution_count": null,
   "metadata": {},
   "outputs": [],
   "source": []
  },
  {
   "cell_type": "code",
   "execution_count": 78,
   "metadata": {},
   "outputs": [
    {
     "data": {
      "text/plain": [
       "34"
      ]
     },
     "execution_count": 78,
     "metadata": {},
     "output_type": "execute_result"
    }
   ],
   "source": [
    "max(int(str(3)+\"3\"),34)"
   ]
  },
  {
   "cell_type": "code",
   "execution_count": null,
   "metadata": {},
   "outputs": [],
   "source": []
  },
  {
   "cell_type": "code",
   "execution_count": null,
   "metadata": {},
   "outputs": [],
   "source": []
  },
  {
   "cell_type": "code",
   "execution_count": null,
   "metadata": {},
   "outputs": [],
   "source": []
  },
  {
   "cell_type": "code",
   "execution_count": null,
   "metadata": {},
   "outputs": [],
   "source": []
  },
  {
   "cell_type": "code",
   "execution_count": null,
   "metadata": {},
   "outputs": [],
   "source": []
  },
  {
   "cell_type": "code",
   "execution_count": null,
   "metadata": {},
   "outputs": [],
   "source": []
  },
  {
   "cell_type": "code",
   "execution_count": null,
   "metadata": {},
   "outputs": [],
   "source": []
  },
  {
   "cell_type": "code",
   "execution_count": 8,
   "metadata": {},
   "outputs": [],
   "source": [
    "a1=[340,34017,34]"
   ]
  },
  {
   "cell_type": "code",
   "execution_count": 9,
   "metadata": {},
   "outputs": [],
   "source": [
    "a2=[34017,340]"
   ]
  },
  {
   "cell_type": "code",
   "execution_count": 10,
   "metadata": {},
   "outputs": [
    {
     "name": "stdout",
     "output_type": "stream",
     "text": [
      "0\n",
      "1\n",
      "2\n",
      "0\n",
      "1\n",
      "2\n",
      "3\n",
      "4\n",
      "0\n",
      "1\n"
     ]
    }
   ],
   "source": [
    "for q in a1:\n",
    "    for w in range(len(str(q))):\n",
    "        if len(str(q)[w])>\n",
    "        print(w)"
   ]
  },
  {
   "cell_type": "code",
   "execution_count": 11,
   "metadata": {},
   "outputs": [
    {
     "name": "stdout",
     "output_type": "stream",
     "text": [
      "wwwsss\n"
     ]
    }
   ],
   "source": [
    "zxc=\"www\"\n",
    "qqq=\"sss\"\n",
    "print(zxc+qqq)"
   ]
  },
  {
   "cell_type": "code",
   "execution_count": 81,
   "metadata": {},
   "outputs": [],
   "source": [
    "def sum_max_period(profits):\n",
    "    sum_final = []\n",
    "    #결과값을 담을 list\n",
    "    \n",
    "    for i in range(len(profits)):\n",
    "        sum_max = 0\n",
    "        #i가 iteration이 될 때마다 sum_max는 reset된다. \n",
    "        \n",
    "        for j in range(i, len(profits)):\n",
    "            #0번 index부터 ~list의 끝까지 차례대로 더한 값을 더한다. \n",
    "            #1번 index부터 ~list의 끝까지 차례대로 더한 값을 더한다. \n",
    "            #반복\n",
    "            \n",
    "            sum_max+=profits[j]\n",
    "            sum_final.append(sum_max)\n",
    "            \n",
    "    return max(sum_final)"
   ]
  },
  {
   "cell_type": "code",
   "execution_count": 86,
   "metadata": {},
   "outputs": [
    {
     "data": {
      "text/plain": [
       "81"
      ]
     },
     "execution_count": 86,
     "metadata": {},
     "output_type": "execute_result"
    }
   ],
   "source": [
    "sum_max_period([3, 30, 34, 5, 9])"
   ]
  },
  {
   "cell_type": "code",
   "execution_count": null,
   "metadata": {},
   "outputs": [],
   "source": []
  },
  {
   "cell_type": "code",
   "execution_count": 161,
   "metadata": {},
   "outputs": [],
   "source": [
    "def solution(numbers):\n",
    "    numbers = list(map(str, numbers))\n",
    "    answer = \"\".join(sorted(numbers, key=lambda x: [x[i] for i in range(len(x))], reverse=True))\n",
    "    return answer if int(answer) != 0 else \"0\"\n"
   ]
  },
  {
   "cell_type": "code",
   "execution_count": 162,
   "metadata": {},
   "outputs": [
    {
     "data": {
      "text/plain": [
       "'9534303'"
      ]
     },
     "execution_count": 162,
     "metadata": {},
     "output_type": "execute_result"
    }
   ],
   "source": [
    "solution([9,5,34,30,3])"
   ]
  },
  {
   "cell_type": "code",
   "execution_count": 118,
   "metadata": {},
   "outputs": [
    {
     "data": {
      "text/plain": [
       "False"
      ]
     },
     "execution_count": 118,
     "metadata": {},
     "output_type": "execute_result"
    }
   ],
   "source": [
    "\"213\"<\"212\""
   ]
  },
  {
   "cell_type": "code",
   "execution_count": null,
   "metadata": {},
   "outputs": [],
   "source": [
    "if int(answer) != 0 else \"0\""
   ]
  },
  {
   "cell_type": "code",
   "execution_count": null,
   "metadata": {},
   "outputs": [],
   "source": []
  },
  {
   "cell_type": "code",
   "execution_count": null,
   "metadata": {},
   "outputs": [],
   "source": []
  },
  {
   "cell_type": "code",
   "execution_count": null,
   "metadata": {},
   "outputs": [],
   "source": []
  },
  {
   "cell_type": "code",
   "execution_count": null,
   "metadata": {},
   "outputs": [],
   "source": []
  },
  {
   "cell_type": "code",
   "execution_count": null,
   "metadata": {},
   "outputs": [],
   "source": []
  },
  {
   "cell_type": "code",
   "execution_count": 149,
   "metadata": {},
   "outputs": [],
   "source": [
    "def solution(numbers):\n",
    "    numbers = list(map(str, numbers))\n",
    "    answer = \"\".join(sorted(numbers, key=lambda x: (x[0], x[1%len(x)], x[2%len(x)], x[3%len(x)]),reverse=True))\n",
    "    return answer if int(answer) != 0 else \"0\"\n"
   ]
  },
  {
   "cell_type": "code",
   "execution_count": 176,
   "metadata": {},
   "outputs": [
    {
     "data": {
      "text/plain": [
       "'3130233'"
      ]
     },
     "execution_count": 176,
     "metadata": {},
     "output_type": "execute_result"
    }
   ],
   "source": [
    "solution([31, 30233])"
   ]
  },
  {
   "cell_type": "code",
   "execution_count": 173,
   "metadata": {},
   "outputs": [
    {
     "name": "stdout",
     "output_type": "stream",
     "text": [
      "0 1 0 1\n"
     ]
    }
   ],
   "source": [
    "문제 설명\n",
    "배열 array의 i번째 숫자부터 j번째 숫자까지 자르고 정렬했을 때, k번째에 있는 수를 구하려 합니다.\n",
    "\n",
    "예를 들어 array가 [1, 5, 2, 6, 3, 7, 4], i = 2, j = 5, k = 3이라면\n",
    "\n",
    "array의 2번째부터 5번째까지 자르면 [5, 2, 6, 3]입니다.\n",
    "1에서 나온 배열을 정렬하면 [2, 3, 5, 6]입니다.\n",
    "2에서 나온 배열의 3번째 숫자는 5입니다.\n",
    "배열 array, [i, j, k]를 원소로 가진 2차원 배열 commands가 매개변수로 주어질 때, commands의 모든 원소에 대해 앞서 설명한 연산을 적용했을 때 나온 결과를 배열에 담아 return 하도록 solution 함수를 작성해주세요.\n",
    "\n",
    "제한사항\n",
    "array의 길이는 1 이상 100 이하입니다.\n",
    "array의 각 원소는 1 이상 100 이하입니다.\n",
    "commands의 길이는 1 이상 50 이하입니다.\n",
    "commands의 각 원소는 길이가 3입니다.\n",
    "입출력 예\n",
    "array\tcommands\treturn\n",
    "[1, 5, 2, 6, 3, 7, 4]\t[[2, 5, 3], [4, 4, 1], [1, 7, 3]]\t[5, 6, 3]\n",
    "입출력 예 설명\n",
    "[1, 5, 2, 6, 3, 7, 4]를 2번째부터 5번째까지 자른 후 정렬합니다. [2, 3, 5, 6]의 세 번째 숫자는 5입니다.\n",
    "[1, 5, 2, 6, 3, 7, 4]를 4번째부터 4번째까지 자른 후 정렬합니다. [6]의 첫 번째 숫자는 6입니다.\n",
    "[1, 5, 2, 6, 3, 7, 4]를 1번째부터 7번째까지 자릅니다. [1, 2, 3, 4, 5, 6, 7]의 세 번째 숫자는 3입니다."
   ]
  },
  {
   "cell_type": "code",
   "execution_count": 229,
   "metadata": {},
   "outputs": [],
   "source": [
    "array=[1, 5, 2, 6, 3, 7, 4]\n",
    "commands=[[2, 5, 3], [4, 4, 1], [1, 7, 3]]"
   ]
  },
  {
   "cell_type": "code",
   "execution_count": 236,
   "metadata": {},
   "outputs": [],
   "source": [
    "def solution(array, commands):\n",
    "    answerlist=[]\n",
    "    for i in commands:\n",
    "        answer = sorted(array[i[0]-1:i[1]])[i[2]-1]\n",
    "        answerlist.append(answer)\n",
    "    return answerlist"
   ]
  },
  {
   "cell_type": "code",
   "execution_count": 212,
   "metadata": {},
   "outputs": [],
   "source": []
  },
  {
   "cell_type": "code",
   "execution_count": null,
   "metadata": {},
   "outputs": [],
   "source": []
  },
  {
   "cell_type": "code",
   "execution_count": null,
   "metadata": {},
   "outputs": [],
   "source": []
  },
  {
   "cell_type": "code",
   "execution_count": null,
   "metadata": {},
   "outputs": [],
   "source": []
  },
  {
   "cell_type": "code",
   "execution_count": null,
   "metadata": {},
   "outputs": [],
   "source": []
  },
  {
   "cell_type": "code",
   "execution_count": null,
   "metadata": {},
   "outputs": [],
   "source": []
  },
  {
   "cell_type": "code",
   "execution_count": null,
   "metadata": {},
   "outputs": [],
   "source": []
  },
  {
   "cell_type": "code",
   "execution_count": null,
   "metadata": {},
   "outputs": [],
   "source": []
  },
  {
   "cell_type": "code",
   "execution_count": null,
   "metadata": {},
   "outputs": [],
   "source": [
    "문제 설명\n",
    "H-Index는 과학자의 생산성과 영향력을 나타내는 지표입니다. 어느 과학자의 H-Index를 나타내는 값인 h를 구하려고 합니다. 위키백과1에 따르면, H-Index는 다음과 같이 구합니다.\n",
    "\n",
    "어떤 과학자가 발표한 논문 n편 중, h번 이상 인용된 논문이 h편 이상이고 나머지 논문이 h번 이하 인용되었다면 h의 최댓값이 이 과학자의 H-Index입니다.\n",
    "\n",
    "어떤 과학자가 발표한 논문의 인용 횟수를 담은 배열 citations가 매개변수로 주어질 때, 이 과학자의 H-Index를 return 하도록 solution 함수를 작성해주세요.\n",
    "\n",
    "제한사항\n",
    "과학자가 발표한 논문의 수는 1편 이상 1,000편 이하입니다.\n",
    "논문별 인용 횟수는 0회 이상 10,000회 이하입니다.\n",
    "입출력 예\n",
    "citations\treturn\n",
    "[3, 0, 6, 1, 5]\t3\n",
    "입출력 예 설명\n",
    "이 과학자가 발표한 논문의 수는 5편이고, 그중 3편의 논문은 3회 이상 인용되었습니다. 그리고 나머지 2편의 논문은 3회 이하 인용되었기 때문에 이 과학자의 H-Index는 3입니다.\n",
    "\n",
    "※ 공지 - 2019년 2월 28일 테스트 케이스가 추가되었습니다."
   ]
  },
  {
   "cell_type": "code",
   "execution_count": 265,
   "metadata": {},
   "outputs": [],
   "source": [
    "def solution(citations):\n",
    "    for i in range(len(citations)):\n",
    "        if i>=sorted(citations, reverse=True)[i]:\n",
    "            answer=i\n",
    "            break\n",
    "    return answer"
   ]
  },
  {
   "cell_type": "code",
   "execution_count": null,
   "metadata": {},
   "outputs": [],
   "source": []
  },
  {
   "cell_type": "code",
   "execution_count": 285,
   "metadata": {
    "scrolled": false
   },
   "outputs": [],
   "source": [
    "def solution(citations):\n",
    "    citations=sorted(citations, reverse=True)\n",
    "    lenlist=len(citations)\n",
    "    for i in range(lenlist):\n",
    "        if i>=citations[i]:\n",
    "            answer=i\n",
    "            return answer"
   ]
  },
  {
   "cell_type": "code",
   "execution_count": 286,
   "metadata": {},
   "outputs": [
    {
     "data": {
      "text/plain": [
       "3"
      ]
     },
     "execution_count": 286,
     "metadata": {},
     "output_type": "execute_result"
    }
   ],
   "source": [
    "citations=[3, 0, 6, 1, 5]\n",
    "solution(citations)"
   ]
  },
  {
   "cell_type": "code",
   "execution_count": 239,
   "metadata": {},
   "outputs": [],
   "source": [
    "a=[3, 0, 6, 1, 5]"
   ]
  },
  {
   "cell_type": "code",
   "execution_count": 253,
   "metadata": {},
   "outputs": [
    {
     "name": "stdout",
     "output_type": "stream",
     "text": [
      "3\n",
      "5\n",
      "1\n",
      "4\n",
      "2\n"
     ]
    }
   ],
   "source": [
    "for i in a:\n",
    "    n=0\n",
    "    for j in a:\n",
    "        \n",
    "        if i<=j:\n",
    "            n+=1\n",
    "    print(n)"
   ]
  },
  {
   "cell_type": "code",
   "execution_count": null,
   "metadata": {},
   "outputs": [],
   "source": [
    "0 > 6\n",
    "1 > 5\n",
    "2 > 3\n",
    "3 > 1 = ok\n",
    "4 > 0\n",
    "\n"
   ]
  },
  {
   "cell_type": "code",
   "execution_count": 255,
   "metadata": {},
   "outputs": [
    {
     "data": {
      "text/plain": [
       "[6, 5, 3, 1, 0]"
      ]
     },
     "execution_count": 255,
     "metadata": {},
     "output_type": "execute_result"
    }
   ],
   "source": [
    "sorted(a, reverse=True)"
   ]
  },
  {
   "cell_type": "code",
   "execution_count": 263,
   "metadata": {},
   "outputs": [
    {
     "name": "stdout",
     "output_type": "stream",
     "text": [
      "3\n"
     ]
    }
   ],
   "source": [
    "for i in range(len(a)):\n",
    "    if i>=sorted(a, reverse=True)[i]:\n",
    "        print(i)\n",
    "        break\n",
    "        "
   ]
  },
  {
   "cell_type": "code",
   "execution_count": 268,
   "metadata": {},
   "outputs": [],
   "source": [
    "def solution(citations):\n",
    "    good=sorted(citations, reverse=True)\n",
    "    qqq=len(citations)\n",
    "    for i in range(qqq):\n",
    "        if i>=good[i]:\n",
    "            answer=i\n",
    "            break\n",
    "    return answer"
   ]
  },
  {
   "cell_type": "code",
   "execution_count": 280,
   "metadata": {},
   "outputs": [],
   "source": [
    "def solution(citations):\n",
    "    citations.sort()\n",
    "    l = len(citations)\n",
    "    for i in range(l):\n",
    "        if citations[i] >= l-i:\n",
    "            # 논문이 인용된 횟수(h번 이상) >= 인용된 논문의 개수(h개 == h번)\n",
    "            return l-i\n",
    "    return 0"
   ]
  },
  {
   "cell_type": "code",
   "execution_count": 281,
   "metadata": {},
   "outputs": [
    {
     "data": {
      "text/plain": [
       "3"
      ]
     },
     "execution_count": 281,
     "metadata": {},
     "output_type": "execute_result"
    }
   ],
   "source": [
    "solution(citations)"
   ]
  },
  {
   "cell_type": "code",
   "execution_count": 2,
   "metadata": {
    "scrolled": true
   },
   "outputs": [
    {
     "ename": "SyntaxError",
     "evalue": "invalid syntax (<ipython-input-2-4e04adcd9ccb>, line 2)",
     "output_type": "error",
     "traceback": [
      "\u001b[1;36m  File \u001b[1;32m\"<ipython-input-2-4e04adcd9ccb>\"\u001b[1;36m, line \u001b[1;32m2\u001b[0m\n\u001b[1;33m    1 2 4 4\u001b[0m\n\u001b[1;37m      ^\u001b[0m\n\u001b[1;31mSyntaxError\u001b[0m\u001b[1;31m:\u001b[0m invalid syntax\n"
     ]
    }
   ],
   "source": [
    "1 2 4 4\n",
    "2 3 5 7\n",
    "3 1 6 5\n",
    "7 3 8 6"
   ]
  },
  {
   "cell_type": "code",
   "execution_count": 48,
   "metadata": {
    "scrolled": true
   },
   "outputs": [],
   "source": [
    "def squareArea():\n",
    "    sqarea=set()\n",
    "    for i in range(4):\n",
    "        allsq = (list(map(int, input().split())))\n",
    "        for x in range(allsq[0],allsq[2]):\n",
    "            for y in range(allsq[1],allsq[3]):\n",
    "                sqarea.add((x,y))\n",
    "    print(len(sqarea))"
   ]
  },
  {
   "cell_type": "code",
   "execution_count": 50,
   "metadata": {},
   "outputs": [
    {
     "name": "stdout",
     "output_type": "stream",
     "text": [
      "1 2 4 4\n",
      "2 3 5 7\n",
      "3 1 6 5\n",
      "7 3 8 6\n",
      "26\n"
     ]
    }
   ],
   "source": [
    "squareArea()"
   ]
  },
  {
   "cell_type": "code",
   "execution_count": 53,
   "metadata": {},
   "outputs": [
    {
     "ename": "KeyboardInterrupt",
     "evalue": "Interrupted by user",
     "output_type": "error",
     "traceback": [
      "\u001b[1;31m---------------------------------------------------------------------------\u001b[0m",
      "\u001b[1;31mKeyboardInterrupt\u001b[0m                         Traceback (most recent call last)",
      "\u001b[1;32m<ipython-input-53-7f2ef0544895>\u001b[0m in \u001b[0;36m<module>\u001b[1;34m\u001b[0m\n\u001b[0;32m      1\u001b[0m \u001b[0msqarea\u001b[0m\u001b[1;33m=\u001b[0m\u001b[0mset\u001b[0m\u001b[1;33m(\u001b[0m\u001b[1;33m)\u001b[0m\u001b[1;33m\u001b[0m\u001b[1;33m\u001b[0m\u001b[0m\n\u001b[0;32m      2\u001b[0m \u001b[1;32mfor\u001b[0m \u001b[0mi\u001b[0m \u001b[1;32min\u001b[0m \u001b[0mrange\u001b[0m\u001b[1;33m(\u001b[0m\u001b[1;36m4\u001b[0m\u001b[1;33m)\u001b[0m\u001b[1;33m:\u001b[0m\u001b[1;33m\u001b[0m\u001b[1;33m\u001b[0m\u001b[0m\n\u001b[1;32m----> 3\u001b[1;33m     \u001b[0mallsq\u001b[0m \u001b[1;33m=\u001b[0m \u001b[1;33m(\u001b[0m\u001b[0mlist\u001b[0m\u001b[1;33m(\u001b[0m\u001b[0mmap\u001b[0m\u001b[1;33m(\u001b[0m\u001b[0mint\u001b[0m\u001b[1;33m,\u001b[0m \u001b[0minput\u001b[0m\u001b[1;33m(\u001b[0m\u001b[1;33m)\u001b[0m\u001b[1;33m.\u001b[0m\u001b[0msplit\u001b[0m\u001b[1;33m(\u001b[0m\u001b[1;33m)\u001b[0m\u001b[1;33m)\u001b[0m\u001b[1;33m)\u001b[0m\u001b[1;33m)\u001b[0m\u001b[1;33m\u001b[0m\u001b[1;33m\u001b[0m\u001b[0m\n\u001b[0m\u001b[0;32m      4\u001b[0m     \u001b[1;32mfor\u001b[0m \u001b[0mx\u001b[0m \u001b[1;32min\u001b[0m \u001b[0mrange\u001b[0m\u001b[1;33m(\u001b[0m\u001b[0mallsq\u001b[0m\u001b[1;33m[\u001b[0m\u001b[1;36m0\u001b[0m\u001b[1;33m]\u001b[0m\u001b[1;33m,\u001b[0m\u001b[0mallsq\u001b[0m\u001b[1;33m[\u001b[0m\u001b[1;36m2\u001b[0m\u001b[1;33m]\u001b[0m\u001b[1;33m)\u001b[0m\u001b[1;33m:\u001b[0m\u001b[1;33m\u001b[0m\u001b[1;33m\u001b[0m\u001b[0m\n\u001b[0;32m      5\u001b[0m         \u001b[1;32mfor\u001b[0m \u001b[0my\u001b[0m \u001b[1;32min\u001b[0m \u001b[0mrange\u001b[0m\u001b[1;33m(\u001b[0m\u001b[0mallsq\u001b[0m\u001b[1;33m[\u001b[0m\u001b[1;36m1\u001b[0m\u001b[1;33m]\u001b[0m\u001b[1;33m,\u001b[0m\u001b[0mallsq\u001b[0m\u001b[1;33m[\u001b[0m\u001b[1;36m3\u001b[0m\u001b[1;33m]\u001b[0m\u001b[1;33m)\u001b[0m\u001b[1;33m:\u001b[0m\u001b[1;33m\u001b[0m\u001b[1;33m\u001b[0m\u001b[0m\n",
      "\u001b[1;32m~\\anaconda3\\lib\\site-packages\\ipykernel\\kernelbase.py\u001b[0m in \u001b[0;36mraw_input\u001b[1;34m(self, prompt)\u001b[0m\n\u001b[0;32m    858\u001b[0m                 \u001b[1;34m\"raw_input was called, but this frontend does not support input requests.\"\u001b[0m\u001b[1;33m\u001b[0m\u001b[1;33m\u001b[0m\u001b[0m\n\u001b[0;32m    859\u001b[0m             )\n\u001b[1;32m--> 860\u001b[1;33m         return self._input_request(str(prompt),\n\u001b[0m\u001b[0;32m    861\u001b[0m             \u001b[0mself\u001b[0m\u001b[1;33m.\u001b[0m\u001b[0m_parent_ident\u001b[0m\u001b[1;33m,\u001b[0m\u001b[1;33m\u001b[0m\u001b[1;33m\u001b[0m\u001b[0m\n\u001b[0;32m    862\u001b[0m             \u001b[0mself\u001b[0m\u001b[1;33m.\u001b[0m\u001b[0m_parent_header\u001b[0m\u001b[1;33m,\u001b[0m\u001b[1;33m\u001b[0m\u001b[1;33m\u001b[0m\u001b[0m\n",
      "\u001b[1;32m~\\anaconda3\\lib\\site-packages\\ipykernel\\kernelbase.py\u001b[0m in \u001b[0;36m_input_request\u001b[1;34m(self, prompt, ident, parent, password)\u001b[0m\n\u001b[0;32m    902\u001b[0m             \u001b[1;32mexcept\u001b[0m \u001b[0mKeyboardInterrupt\u001b[0m\u001b[1;33m:\u001b[0m\u001b[1;33m\u001b[0m\u001b[1;33m\u001b[0m\u001b[0m\n\u001b[0;32m    903\u001b[0m                 \u001b[1;31m# re-raise KeyboardInterrupt, to truncate traceback\u001b[0m\u001b[1;33m\u001b[0m\u001b[1;33m\u001b[0m\u001b[1;33m\u001b[0m\u001b[0m\n\u001b[1;32m--> 904\u001b[1;33m                 \u001b[1;32mraise\u001b[0m \u001b[0mKeyboardInterrupt\u001b[0m\u001b[1;33m(\u001b[0m\u001b[1;34m\"Interrupted by user\"\u001b[0m\u001b[1;33m)\u001b[0m \u001b[1;32mfrom\u001b[0m \u001b[1;32mNone\u001b[0m\u001b[1;33m\u001b[0m\u001b[1;33m\u001b[0m\u001b[0m\n\u001b[0m\u001b[0;32m    905\u001b[0m             \u001b[1;32mexcept\u001b[0m \u001b[0mException\u001b[0m \u001b[1;32mas\u001b[0m \u001b[0me\u001b[0m\u001b[1;33m:\u001b[0m\u001b[1;33m\u001b[0m\u001b[1;33m\u001b[0m\u001b[0m\n\u001b[0;32m    906\u001b[0m                 \u001b[0mself\u001b[0m\u001b[1;33m.\u001b[0m\u001b[0mlog\u001b[0m\u001b[1;33m.\u001b[0m\u001b[0mwarning\u001b[0m\u001b[1;33m(\u001b[0m\u001b[1;34m\"Invalid Message:\"\u001b[0m\u001b[1;33m,\u001b[0m \u001b[0mexc_info\u001b[0m\u001b[1;33m=\u001b[0m\u001b[1;32mTrue\u001b[0m\u001b[1;33m)\u001b[0m\u001b[1;33m\u001b[0m\u001b[1;33m\u001b[0m\u001b[0m\n",
      "\u001b[1;31mKeyboardInterrupt\u001b[0m: Interrupted by user"
     ]
    }
   ],
   "source": [
    "sqarea=set()\n",
    "for i in range(4):\n",
    "    allsq = (list(map(int, input().split())))\n",
    "    for x in range(allsq[0],allsq[2]):\n",
    "        for y in range(allsq[1],allsq[3]):\n",
    "            sqarea.add((x,y))\n",
    "print(len(sqarea))"
   ]
  },
  {
   "cell_type": "code",
   "execution_count": 54,
   "metadata": {},
   "outputs": [
    {
     "name": "stdout",
     "output_type": "stream",
     "text": [
      "<map object at 0x000001FC33119F10>\n"
     ]
    }
   ],
   "source": [
    "qq=[3,5,7,8]\n",
    "aa=[]\n",
    "a=map(lambda x: x*2,qq)\n",
    "print(a)"
   ]
  },
  {
   "cell_type": "code",
   "execution_count": null,
   "metadata": {},
   "outputs": [],
   "source": [
    "1 2 3 100 2 3 5 7 10 2 15 99 50 1 51 7"
   ]
  },
  {
   "cell_type": "code",
   "execution_count": 41,
   "metadata": {},
   "outputs": [
    {
     "name": "stdout",
     "output_type": "stream",
     "text": [
      "1 2 3 100 2 3 5 7 10 2 15 99 50 1 51 7\n"
     ]
    },
    {
     "ename": "ValueError",
     "evalue": "too many values to unpack (expected 4)",
     "output_type": "error",
     "traceback": [
      "\u001b[1;31m---------------------------------------------------------------------------\u001b[0m",
      "\u001b[1;31mValueError\u001b[0m                                Traceback (most recent call last)",
      "\u001b[1;32m<ipython-input-41-893dcf6883f7>\u001b[0m in \u001b[0;36m<module>\u001b[1;34m\u001b[0m\n\u001b[0;32m      1\u001b[0m \u001b[0mr\u001b[0m\u001b[1;33m=\u001b[0m\u001b[1;33m[\u001b[0m\u001b[1;33m]\u001b[0m\u001b[1;33m\u001b[0m\u001b[1;33m\u001b[0m\u001b[0m\n\u001b[0;32m      2\u001b[0m \u001b[1;32mfor\u001b[0m \u001b[0mi\u001b[0m \u001b[1;32min\u001b[0m \u001b[0mrange\u001b[0m\u001b[1;33m(\u001b[0m\u001b[1;36m4\u001b[0m\u001b[1;33m)\u001b[0m\u001b[1;33m:\u001b[0m\u001b[1;33m\u001b[0m\u001b[1;33m\u001b[0m\u001b[0m\n\u001b[1;32m----> 3\u001b[1;33m     \u001b[0mx\u001b[0m\u001b[1;33m,\u001b[0m\u001b[0my\u001b[0m\u001b[1;33m,\u001b[0m\u001b[0ma\u001b[0m\u001b[1;33m,\u001b[0m\u001b[0mb\u001b[0m\u001b[1;33m=\u001b[0m\u001b[0mmap\u001b[0m\u001b[1;33m(\u001b[0m\u001b[0mint\u001b[0m\u001b[1;33m,\u001b[0m\u001b[0minput\u001b[0m\u001b[1;33m(\u001b[0m\u001b[1;33m)\u001b[0m\u001b[1;33m.\u001b[0m\u001b[0msplit\u001b[0m\u001b[1;33m(\u001b[0m\u001b[1;33m)\u001b[0m\u001b[1;33m)\u001b[0m\u001b[1;33m\u001b[0m\u001b[1;33m\u001b[0m\u001b[0m\n\u001b[0m\u001b[0;32m      4\u001b[0m     \u001b[1;32mfor\u001b[0m \u001b[0mm\u001b[0m \u001b[1;32min\u001b[0m \u001b[0mrange\u001b[0m\u001b[1;33m(\u001b[0m\u001b[0mx\u001b[0m\u001b[1;33m,\u001b[0m\u001b[0ma\u001b[0m\u001b[1;33m)\u001b[0m\u001b[1;33m:\u001b[0m\u001b[1;33m[\u001b[0m\u001b[0mr\u001b[0m\u001b[1;33m.\u001b[0m\u001b[0mappend\u001b[0m\u001b[1;33m(\u001b[0m\u001b[0mm\u001b[0m\u001b[1;33m*\u001b[0m\u001b[1;36m1000\u001b[0m\u001b[1;33m+\u001b[0m\u001b[0mn\u001b[0m\u001b[1;33m)\u001b[0m\u001b[1;32mfor\u001b[0m \u001b[0mn\u001b[0m \u001b[1;32min\u001b[0m \u001b[0mrange\u001b[0m\u001b[1;33m(\u001b[0m\u001b[0my\u001b[0m\u001b[1;33m,\u001b[0m\u001b[0mb\u001b[0m\u001b[1;33m)\u001b[0m\u001b[1;33m]\u001b[0m\u001b[1;33m\u001b[0m\u001b[1;33m\u001b[0m\u001b[0m\n\u001b[0;32m      5\u001b[0m \u001b[0mprint\u001b[0m\u001b[1;33m(\u001b[0m\u001b[0mlen\u001b[0m\u001b[1;33m(\u001b[0m\u001b[0mset\u001b[0m\u001b[1;33m(\u001b[0m\u001b[0mr\u001b[0m\u001b[1;33m)\u001b[0m\u001b[1;33m)\u001b[0m\u001b[1;33m)\u001b[0m\u001b[1;33m\u001b[0m\u001b[1;33m\u001b[0m\u001b[0m\n",
      "\u001b[1;31mValueError\u001b[0m: too many values to unpack (expected 4)"
     ]
    }
   ],
   "source": [
    "r=[]\n",
    "for i in range(4):\n",
    "    x,y,a,b=map(int,input().split())\n",
    "    for m in range(x,a):[r.append(m*1000+n)for n in range(y,b)]\n",
    "print(len(set(r)))"
   ]
  },
  {
   "cell_type": "code",
   "execution_count": 43,
   "metadata": {},
   "outputs": [
    {
     "name": "stdout",
     "output_type": "stream",
     "text": [
      "1번 직사각형 좌표를 입력하세요: 1 2 3 100 2 3 5 7 10 2 15 99 50 1 51 7\n"
     ]
    },
    {
     "ename": "ValueError",
     "evalue": "too many values to unpack (expected 4)",
     "output_type": "error",
     "traceback": [
      "\u001b[1;31m---------------------------------------------------------------------------\u001b[0m",
      "\u001b[1;31mValueError\u001b[0m                                Traceback (most recent call last)",
      "\u001b[1;32m<ipython-input-43-0734b9ebfd31>\u001b[0m in \u001b[0;36m<module>\u001b[1;34m\u001b[0m\n\u001b[0;32m      4\u001b[0m \u001b[1;33m\u001b[0m\u001b[0m\n\u001b[0;32m      5\u001b[0m \u001b[1;32mfor\u001b[0m \u001b[0mx\u001b[0m \u001b[1;32min\u001b[0m \u001b[0mrange\u001b[0m\u001b[1;33m(\u001b[0m\u001b[1;36m4\u001b[0m\u001b[1;33m)\u001b[0m\u001b[1;33m:\u001b[0m\u001b[1;33m\u001b[0m\u001b[1;33m\u001b[0m\u001b[0m\n\u001b[1;32m----> 6\u001b[1;33m     \u001b[0mx1\u001b[0m\u001b[1;33m,\u001b[0m \u001b[0my1\u001b[0m\u001b[1;33m,\u001b[0m \u001b[0mx2\u001b[0m\u001b[1;33m,\u001b[0m \u001b[0my2\u001b[0m \u001b[1;33m=\u001b[0m \u001b[0mmap\u001b[0m\u001b[1;33m(\u001b[0m\u001b[0mint\u001b[0m\u001b[1;33m,\u001b[0m \u001b[0minput\u001b[0m\u001b[1;33m(\u001b[0m\u001b[1;34m'%d번 직사각형 좌표를 입력하세요: '\u001b[0m \u001b[1;33m%\u001b[0m\u001b[1;33m(\u001b[0m\u001b[0mx\u001b[0m\u001b[1;33m+\u001b[0m\u001b[1;36m1\u001b[0m\u001b[1;33m)\u001b[0m\u001b[1;33m)\u001b[0m\u001b[1;33m.\u001b[0m\u001b[0msplit\u001b[0m\u001b[1;33m(\u001b[0m\u001b[1;33m)\u001b[0m\u001b[1;33m)\u001b[0m\u001b[1;33m\u001b[0m\u001b[1;33m\u001b[0m\u001b[0m\n\u001b[0m\u001b[0;32m      7\u001b[0m \u001b[1;33m\u001b[0m\u001b[0m\n\u001b[0;32m      8\u001b[0m     \u001b[1;31m# 사각형 1로 채우기\u001b[0m\u001b[1;33m\u001b[0m\u001b[1;33m\u001b[0m\u001b[1;33m\u001b[0m\u001b[0m\n",
      "\u001b[1;31mValueError\u001b[0m: too many values to unpack (expected 4)"
     ]
    }
   ],
   "source": [
    "base = [[0 for _ in range(1001)] for _ in range(1001)] \n",
    "# x, y좌표는 1 이상이고 1000 이하, 그 좌표들을 0으로 채움\n",
    "cnt=0\n",
    "\n",
    "for x in range(4):\n",
    "    x1, y1, x2, y2 = map(int, input('%d번 직사각형 좌표를 입력하세요: ' %(x+1)).split())\n",
    "\n",
    "    # 사각형 1로 채우기\n",
    "    for i in range(x1, x2):\n",
    "        for j in range(y1, y2):\n",
    "            base[i][j] = 1\n",
    "\n",
    "res = 0\n",
    "for a in base:\n",
    "    res += sum(a) #결과 = 1로 채워진 부분의 합\n",
    "print(res)"
   ]
  },
  {
   "cell_type": "code",
   "execution_count": null,
   "metadata": {},
   "outputs": [],
   "source": []
  }
 ],
 "metadata": {
  "kernelspec": {
   "display_name": "Python 3",
   "language": "python",
   "name": "python3"
  },
  "language_info": {
   "codemirror_mode": {
    "name": "ipython",
    "version": 3
   },
   "file_extension": ".py",
   "mimetype": "text/x-python",
   "name": "python",
   "nbconvert_exporter": "python",
   "pygments_lexer": "ipython3",
   "version": "3.8.5"
  }
 },
 "nbformat": 4,
 "nbformat_minor": 4
}
