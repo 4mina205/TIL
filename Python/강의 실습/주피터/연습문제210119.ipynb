{
 "cells": [
  {
   "cell_type": "markdown",
   "metadata": {},
   "source": [
    "#       버전을 비교     "
   ]
  },
  {
   "cell_type": "code",
   "execution_count": 187,
   "metadata": {},
   "outputs": [
    {
     "name": "stdout",
     "output_type": "stream",
     "text": [
      "1.4.9 > 1.4.3\n"
     ]
    }
   ],
   "source": [
    "def compversion(ver1,ver2):\n",
    "    complist=[ver1,ver2]\n",
    "    complist.sort(key=lambda x:x, reverse=True) \n",
    "    if complist[0]==complist[1]:\n",
    "        print(complist[0],\"=\",complist[1])\n",
    "    else:\n",
    "        print(complist[0],\">\",complist[1])\n",
    "\n",
    "compversion(\"1.4.3\",\"1.4.\")"
   ]
  },
  {
   "cell_type": "code",
   "execution_count": 3,
   "metadata": {},
   "outputs": [
    {
     "name": "stdout",
     "output_type": "stream",
     "text": [
      "[1, 0, 1]\n"
     ]
    }
   ],
   "source": [
    "ver1=list(map(int,input().split(\".\")))\n",
    "ver2=list(map(int,input().split(\".\")))\n",
    "for i in range(len(ver1)):\n",
    "    if ver1[i]>ver2[i]:\n",
    "        print(ver1,\">\", ver2)\n",
    "    if ver1[i]<ver2[i]:\n",
    "        print(ver1,\"<\", ver2)"
   ]
  },
  {
   "cell_type": "markdown",
   "metadata": {},
   "source": [
    "#      게임"
   ]
  },
  {
   "cell_type": "code",
   "execution_count": 63,
   "metadata": {},
   "outputs": [
    {
     "name": "stdout",
     "output_type": "stream",
     "text": [
      "51\n"
     ]
    }
   ],
   "source": [
    "# n번째가 아닌 사람을 리스트 뒤에 추가하는 방식\n",
    "\n",
    "def game(people,num):\n",
    "    people=list(range(1,people+1))\n",
    "    for i in range(100000000000000): \n",
    "        if people[i] != people[i-1]: #같은 숫자가 반복되면 마지막 남은 사람이라 생각\n",
    "            if (i+1)%num != 0: \n",
    "                people.append(people[i])\n",
    "        else:\n",
    "            break\n",
    "    print(people[-1]) # 맨 마지막 사람\n",
    "    \n",
    "game(115,6)"
   ]
  },
  {
   "cell_type": "markdown",
   "metadata": {},
   "source": [
    "#  최대 빈도"
   ]
  },
  {
   "cell_type": "code",
   "execution_count": 188,
   "metadata": {
    "collapsed": true
   },
   "outputs": [
    {
     "ename": "FileNotFoundError",
     "evalue": "[Errno 2] No such file or directory: 'practice3.txt'",
     "output_type": "error",
     "traceback": [
      "\u001b[1;31m---------------------------------------------------------------------------\u001b[0m",
      "\u001b[1;31mFileNotFoundError\u001b[0m                         Traceback (most recent call last)",
      "\u001b[1;32m<ipython-input-188-7173f6419fcb>\u001b[0m in \u001b[0;36m<module>\u001b[1;34m\u001b[0m\n\u001b[0;32m     14\u001b[0m         \u001b[0mprint\u001b[0m\u001b[1;33m(\u001b[0m\u001b[0mpair\u001b[0m\u001b[1;33m[\u001b[0m\u001b[0mi\u001b[0m\u001b[1;33m]\u001b[0m\u001b[1;33m[\u001b[0m\u001b[1;36m0\u001b[0m\u001b[1;33m]\u001b[0m\u001b[1;33m,\u001b[0m\u001b[0mpair\u001b[0m\u001b[1;33m[\u001b[0m\u001b[0mi\u001b[0m\u001b[1;33m]\u001b[0m\u001b[1;33m[\u001b[0m\u001b[1;36m1\u001b[0m\u001b[1;33m]\u001b[0m\u001b[1;33m)\u001b[0m\u001b[1;33m\u001b[0m\u001b[1;33m\u001b[0m\u001b[0m\n\u001b[0;32m     15\u001b[0m \u001b[1;33m\u001b[0m\u001b[0m\n\u001b[1;32m---> 16\u001b[1;33m \u001b[0mmaxVoca\u001b[0m\u001b[1;33m(\u001b[0m\u001b[1;34m\"practice3.txt\"\u001b[0m\u001b[1;33m)\u001b[0m\u001b[1;33m\u001b[0m\u001b[1;33m\u001b[0m\u001b[0m\n\u001b[0m",
      "\u001b[1;32m<ipython-input-188-7173f6419fcb>\u001b[0m in \u001b[0;36mmaxVoca\u001b[1;34m(text)\u001b[0m\n\u001b[0;32m      1\u001b[0m \u001b[1;32mdef\u001b[0m \u001b[0mmaxVoca\u001b[0m\u001b[1;33m(\u001b[0m\u001b[0mtext\u001b[0m\u001b[1;33m)\u001b[0m\u001b[1;33m:\u001b[0m\u001b[1;33m\u001b[0m\u001b[1;33m\u001b[0m\u001b[0m\n\u001b[0;32m      2\u001b[0m     \u001b[1;32mimport\u001b[0m \u001b[0mre\u001b[0m\u001b[1;33m\u001b[0m\u001b[1;33m\u001b[0m\u001b[0m\n\u001b[1;32m----> 3\u001b[1;33m     \u001b[1;32mwith\u001b[0m \u001b[0mopen\u001b[0m\u001b[1;33m(\u001b[0m\u001b[0mtext\u001b[0m\u001b[1;33m,\u001b[0m \u001b[1;34m\"r\"\u001b[0m\u001b[1;33m)\u001b[0m \u001b[1;32mas\u001b[0m \u001b[0mf\u001b[0m\u001b[1;33m:\u001b[0m\u001b[1;33m\u001b[0m\u001b[1;33m\u001b[0m\u001b[0m\n\u001b[0m\u001b[0;32m      4\u001b[0m       \u001b[0mtext\u001b[0m \u001b[1;33m=\u001b[0m \u001b[0mf\u001b[0m\u001b[1;33m.\u001b[0m\u001b[0mread\u001b[0m\u001b[1;33m(\u001b[0m\u001b[1;33m)\u001b[0m\u001b[1;33m\u001b[0m\u001b[1;33m\u001b[0m\u001b[0m\n\u001b[0;32m      5\u001b[0m     \u001b[0mall_text\u001b[0m\u001b[1;33m=\u001b[0m\u001b[0mre\u001b[0m\u001b[1;33m.\u001b[0m\u001b[0mfindall\u001b[0m\u001b[1;33m(\u001b[0m\u001b[1;34m\"[a-zA-Z]+\"\u001b[0m\u001b[1;33m,\u001b[0m\u001b[0mtext\u001b[0m\u001b[1;33m)\u001b[0m\u001b[1;33m\u001b[0m\u001b[1;33m\u001b[0m\u001b[0m\n",
      "\u001b[1;31mFileNotFoundError\u001b[0m: [Errno 2] No such file or directory: 'practice3.txt'"
     ]
    }
   ],
   "source": [
    "def maxVoca(text):\n",
    "    import re\n",
    "    with open(text, \"r\") as f:\n",
    "      text = f.read()\n",
    "    all_text=re.findall(\"[a-zA-Z]+\",text)\n",
    "    voc_dict={}\n",
    "    for i in all_text:\n",
    "        if i in voc_dict:\n",
    "            voc_dict[i]+=1\n",
    "        else:\n",
    "            voc_dict[i]=1\n",
    "    pair=sorted(voc_dict.items(), key=lambda x: x[1], reverse=True)\n",
    "    for i in range(10):\n",
    "        print(pair[i][0],pair[i][1])\n",
    "\n",
    "maxVoca(\"practice3.txt\")"
   ]
  },
  {
   "cell_type": "markdown",
   "metadata": {},
   "source": [
    "#  텍스트"
   ]
  },
  {
   "cell_type": "code",
   "execution_count": null,
   "metadata": {},
   "outputs": [],
   "source": [
    "<html>\n",
    "<head>\n",
    "    <meta charset=\"UTF-8\">\n",
    "    <style>\n",
    "        table{\n",
    "        border: 2px solid;\n",
    "        border-collapse:collapse;\n",
    "        }\n",
    "        th,td{border: 2px solid blue;}\n",
    "        th{background-color: skyblue}\n",
    "        tr{background-color: pink}\n",
    "    </style>\n",
    "</head>\n",
    "<body>\n",
    "    <h1 align=\"center\">24회 전국정보과학창의성대회</h1>\n",
    "    <table align=\"center\" width=\"500px\" height=\"200px\">\n",
    "        <tr>\n",
    "            <th>부분</th>\n",
    "            <td>웹프로그래밍</td>\n",
    "            <td rowspan=\"3\" align=\"center\" width=\"150px\">사진</td>\n",
    "        </tr>\n",
    "        <tr>\n",
    "            <th>수강번호</th>\n",
    "            <td>1234</td>\n",
    "        </tr>\n",
    "        <tr>\n",
    "            <th>성명</th>\n",
    "            <td>빅데이터 초심자</td>\n",
    "        </tr>\n",
    "        <tr>\n",
    "            <th>좌우명</th>\n",
    "            <td align=\"center\" colspan=\"2\">빅데이터 분석의 전설이 되리</td>\n",
    "        </tr>\n",
    "    </table>\n",
    "</body>\n",
    "</html>"
   ]
  },
  {
   "cell_type": "markdown",
   "metadata": {},
   "source": [
    "#  텍스트2"
   ]
  },
  {
   "cell_type": "code",
   "execution_count": null,
   "metadata": {},
   "outputs": [],
   "source": [
    "<html>\n",
    "<head>\n",
    "    <meta charset=\"UTF-8\">\n",
    "</head>\n",
    "<body>\n",
    "<table border=\"1\" width=\"500px\" height=\"100px\">\n",
    "    <tr align=\"center\">\n",
    "        <td colspan=\"2\">제목</td>\n",
    "    </tr>\n",
    "    <tr align=\"center\">\n",
    "        <td>1행 1열</td>\n",
    "        <td>1행 2열</td>\n",
    "    </tr>\n",
    "    <tr align=\"center\">\n",
    "        <td>2행 1열</td>\n",
    "        <td>2행 2열</td>\n",
    "    </tr>\n",
    "    <tr align=\"center\">\n",
    "        <td>3행 1열</td>\n",
    "        <td>3행 2열</td>\n",
    "    </tr>\n",
    "</table>\n",
    "</body>\n",
    "</html>"
   ]
  },
  {
   "cell_type": "code",
   "execution_count": null,
   "metadata": {},
   "outputs": [],
   "source": []
  },
  {
   "cell_type": "code",
   "execution_count": 85,
   "metadata": {},
   "outputs": [
    {
     "name": "stdout",
     "output_type": "stream",
     "text": [
      "3093025\n"
     ]
    }
   ],
   "source": [
    "# n번째가 아닌 사람을 리스트 뒤에 추가하는 방식\n",
    "\n",
    "def game(people,num):\n",
    "    i=0\n",
    "    people=list(range(1,people+1))\n",
    "    while True:\n",
    "        if (i+1)%num != 0: \n",
    "            people.append(people[i])\n",
    "        i+=1\n",
    "        if people[i] == people[i-1]:\n",
    "            break\n",
    "    print(people[-1])\n",
    "\n",
    "\n",
    "game(10,3)"
   ]
  },
  {
   "cell_type": "code",
   "execution_count": 1,
   "metadata": {},
   "outputs": [
    {
     "name": "stdout",
     "output_type": "stream",
     "text": [
      "[1, 2, 3, 4, 5, 6, 7, 8, 9, 10, 1]\n",
      "[1, 2, 3, 4, 5, 6, 7, 8, 9, 10, 1, 2]\n",
      "[1, 2, 3, 4, 5, 6, 7, 8, 9, 10, 1, 2]\n",
      "[1, 2, 3, 4, 5, 6, 7, 8, 9, 10, 1, 2, 4]\n",
      "[1, 2, 3, 4, 5, 6, 7, 8, 9, 10, 1, 2, 4, 5]\n",
      "[1, 2, 3, 4, 5, 6, 7, 8, 9, 10, 1, 2, 4, 5]\n",
      "[1, 2, 3, 4, 5, 6, 7, 8, 9, 10, 1, 2, 4, 5, 7]\n",
      "[1, 2, 3, 4, 5, 6, 7, 8, 9, 10, 1, 2, 4, 5, 7, 8]\n",
      "[1, 2, 3, 4, 5, 6, 7, 8, 9, 10, 1, 2, 4, 5, 7, 8]\n",
      "[1, 2, 3, 4, 5, 6, 7, 8, 9, 10, 1, 2, 4, 5, 7, 8, 10]\n",
      "[1, 2, 3, 4, 5, 6, 7, 8, 9, 10, 1, 2, 4, 5, 7, 8, 10, 1]\n",
      "[1, 2, 3, 4, 5, 6, 7, 8, 9, 10, 1, 2, 4, 5, 7, 8, 10, 1]\n",
      "[1, 2, 3, 4, 5, 6, 7, 8, 9, 10, 1, 2, 4, 5, 7, 8, 10, 1, 4]\n",
      "[1, 2, 3, 4, 5, 6, 7, 8, 9, 10, 1, 2, 4, 5, 7, 8, 10, 1, 4, 5]\n",
      "[1, 2, 3, 4, 5, 6, 7, 8, 9, 10, 1, 2, 4, 5, 7, 8, 10, 1, 4, 5]\n",
      "[1, 2, 3, 4, 5, 6, 7, 8, 9, 10, 1, 2, 4, 5, 7, 8, 10, 1, 4, 5, 8]\n",
      "[1, 2, 3, 4, 5, 6, 7, 8, 9, 10, 1, 2, 4, 5, 7, 8, 10, 1, 4, 5, 8, 10]\n",
      "[1, 2, 3, 4, 5, 6, 7, 8, 9, 10, 1, 2, 4, 5, 7, 8, 10, 1, 4, 5, 8, 10]\n",
      "[1, 2, 3, 4, 5, 6, 7, 8, 9, 10, 1, 2, 4, 5, 7, 8, 10, 1, 4, 5, 8, 10, 4]\n",
      "[1, 2, 3, 4, 5, 6, 7, 8, 9, 10, 1, 2, 4, 5, 7, 8, 10, 1, 4, 5, 8, 10, 4, 5]\n",
      "[1, 2, 3, 4, 5, 6, 7, 8, 9, 10, 1, 2, 4, 5, 7, 8, 10, 1, 4, 5, 8, 10, 4, 5]\n",
      "[1, 2, 3, 4, 5, 6, 7, 8, 9, 10, 1, 2, 4, 5, 7, 8, 10, 1, 4, 5, 8, 10, 4, 5, 10]\n",
      "[1, 2, 3, 4, 5, 6, 7, 8, 9, 10, 1, 2, 4, 5, 7, 8, 10, 1, 4, 5, 8, 10, 4, 5, 10, 4]\n",
      "[1, 2, 3, 4, 5, 6, 7, 8, 9, 10, 1, 2, 4, 5, 7, 8, 10, 1, 4, 5, 8, 10, 4, 5, 10, 4]\n",
      "[1, 2, 3, 4, 5, 6, 7, 8, 9, 10, 1, 2, 4, 5, 7, 8, 10, 1, 4, 5, 8, 10, 4, 5, 10, 4, 10]\n",
      "[1, 2, 3, 4, 5, 6, 7, 8, 9, 10, 1, 2, 4, 5, 7, 8, 10, 1, 4, 5, 8, 10, 4, 5, 10, 4, 10, 4]\n",
      "[1, 2, 3, 4, 5, 6, 7, 8, 9, 10, 1, 2, 4, 5, 7, 8, 10, 1, 4, 5, 8, 10, 4, 5, 10, 4, 10, 4]\n",
      "[1, 2, 3, 4, 5, 6, 7, 8, 9, 10, 1, 2, 4, 5, 7, 8, 10, 1, 4, 5, 8, 10, 4, 5, 10, 4, 10, 4, 4]\n",
      "4\n"
     ]
    }
   ],
   "source": [
    "def game(people,num):\n",
    "    i=0\n",
    "    people=list(range(1,people+1))\n",
    "    while people[i] != people[i-1]:\n",
    "        if (i+1)%num != 0: \n",
    "            people.append(people[i])\n",
    "        i+=1\n",
    "        print(people)\n",
    "    print(people[-1])\n",
    "    \n",
    "game(10,3)"
   ]
  },
  {
   "cell_type": "code",
   "execution_count": 27,
   "metadata": {},
   "outputs": [
    {
     "name": "stdout",
     "output_type": "stream",
     "text": [
      "7933649\n",
      "16.601079초 걸렸습니다.\n"
     ]
    }
   ],
   "source": [
    "def game(people,num):\n",
    "    import timeit\n",
    "    start_time = timeit.default_timer()\n",
    "    i=0\n",
    "    people=list(range(1,people+1))\n",
    "    while True:\n",
    "        if (i+1)%num != 0: \n",
    "            people.append(people[i])\n",
    "        i+=1\n",
    "        if people[i] == people[i-1]:\n",
    "            break\n",
    "    terminate_time = timeit.default_timer() # 종료 시간 체크  \n",
    "    print(people[-1])\n",
    "    print(\"%f초 걸렸습니다.\" % (terminate_time - start_time))\n",
    "    \n",
    "        \n",
    "    \n",
    "game(10000000,6)"
   ]
  },
  {
   "cell_type": "code",
   "execution_count": 59,
   "metadata": {},
   "outputs": [
    {
     "name": "stdout",
     "output_type": "stream",
     "text": [
      "54212\n",
      "0.220190초 걸렸습니다.\n"
     ]
    }
   ],
   "source": [
    "def game(people,num):\n",
    "    import timeit\n",
    "    start_time = timeit.default_timer()    \n",
    "    people=list(range(1,people+1))\n",
    "    for i in range(100000000000000): \n",
    "        if people[i] != people[i-1]: #같은 숫자가 반복되면 마지막 남은 사람이라 생각\n",
    "            if (i+1)%num != 0: \n",
    "                people.append(people[i])\n",
    "        else:\n",
    "            break\n",
    "    terminate_time = timeit.default_timer() # 종료 시간 체크  \n",
    "    print(people[-1])\n",
    "    print(\"%f초 걸렸습니다.\" % (terminate_time - start_time))\n",
    "game(100000,6)"
   ]
  },
  {
   "cell_type": "code",
   "execution_count": null,
   "metadata": {},
   "outputs": [],
   "source": []
  },
  {
   "cell_type": "code",
   "execution_count": null,
   "metadata": {},
   "outputs": [],
   "source": []
  },
  {
   "cell_type": "code",
   "execution_count": null,
   "metadata": {},
   "outputs": [],
   "source": []
  },
  {
   "cell_type": "code",
   "execution_count": 65,
   "metadata": {},
   "outputs": [
    {
     "name": "stdout",
     "output_type": "stream",
     "text": [
      "N K: 10000 6\n"
     ]
    },
    {
     "ename": "KeyboardInterrupt",
     "evalue": "",
     "output_type": "error",
     "traceback": [
      "\u001b[1;31m---------------------------------------------------------------------------\u001b[0m",
      "\u001b[1;31mKeyboardInterrupt\u001b[0m                         Traceback (most recent call last)",
      "\u001b[1;32m<ipython-input-65-c32e100a46b5>\u001b[0m in \u001b[0;36m<module>\u001b[1;34m\u001b[0m\n\u001b[0;32m     25\u001b[0m \u001b[1;33m\u001b[0m\u001b[0m\n\u001b[0;32m     26\u001b[0m \u001b[1;33m\u001b[0m\u001b[0m\n\u001b[1;32m---> 27\u001b[1;33m \u001b[0masdf\u001b[0m\u001b[1;33m(\u001b[0m\u001b[1;36m10000\u001b[0m\u001b[1;33m,\u001b[0m\u001b[1;36m6\u001b[0m\u001b[1;33m)\u001b[0m\u001b[1;33m\u001b[0m\u001b[1;33m\u001b[0m\u001b[0m\n\u001b[0m",
      "\u001b[1;32m<ipython-input-65-c32e100a46b5>\u001b[0m in \u001b[0;36masdf\u001b[1;34m(N, K)\u001b[0m\n\u001b[0;32m     14\u001b[0m                 \u001b[0mtemp\u001b[0m\u001b[1;33m.\u001b[0m\u001b[0mappend\u001b[0m\u001b[1;33m(\u001b[0m\u001b[0mbuild\u001b[0m\u001b[1;33m.\u001b[0m\u001b[0mpop\u001b[0m\u001b[1;33m(\u001b[0m\u001b[1;33m)\u001b[0m\u001b[1;33m)\u001b[0m\u001b[1;33m\u001b[0m\u001b[1;33m\u001b[0m\u001b[0m\n\u001b[0;32m     15\u001b[0m                 \u001b[0mbuild\u001b[0m\u001b[1;33m=\u001b[0m\u001b[1;33m[\u001b[0m\u001b[1;33m]\u001b[0m\u001b[1;33m\u001b[0m\u001b[1;33m\u001b[0m\u001b[0m\n\u001b[1;32m---> 16\u001b[1;33m                 \u001b[0mhumanlist\u001b[0m \u001b[1;33m=\u001b[0m \u001b[1;33m[\u001b[0m\u001b[0mx\u001b[0m \u001b[1;32mfor\u001b[0m \u001b[0mx\u001b[0m \u001b[1;32min\u001b[0m \u001b[0mhumanlist\u001b[0m \u001b[1;32mif\u001b[0m \u001b[0mx\u001b[0m \u001b[1;32mnot\u001b[0m \u001b[1;32min\u001b[0m \u001b[0mtemp\u001b[0m\u001b[1;33m]\u001b[0m\u001b[1;31m# 차집합처럼human-temp 해주기\u001b[0m\u001b[1;33m\u001b[0m\u001b[1;33m\u001b[0m\u001b[0m\n\u001b[0m\u001b[0;32m     17\u001b[0m         \u001b[1;32mif\u001b[0m \u001b[0mlen\u001b[0m\u001b[1;33m(\u001b[0m\u001b[0mhumanlist\u001b[0m\u001b[1;33m)\u001b[0m\u001b[1;33m==\u001b[0m\u001b[1;36m1\u001b[0m\u001b[1;33m:\u001b[0m\u001b[1;33m\u001b[0m\u001b[1;33m\u001b[0m\u001b[0m\n\u001b[0;32m     18\u001b[0m             \u001b[1;32mbreak\u001b[0m\u001b[1;33m\u001b[0m\u001b[1;33m\u001b[0m\u001b[0m\n",
      "\u001b[1;32m<ipython-input-65-c32e100a46b5>\u001b[0m in \u001b[0;36m<listcomp>\u001b[1;34m(.0)\u001b[0m\n\u001b[0;32m     14\u001b[0m                 \u001b[0mtemp\u001b[0m\u001b[1;33m.\u001b[0m\u001b[0mappend\u001b[0m\u001b[1;33m(\u001b[0m\u001b[0mbuild\u001b[0m\u001b[1;33m.\u001b[0m\u001b[0mpop\u001b[0m\u001b[1;33m(\u001b[0m\u001b[1;33m)\u001b[0m\u001b[1;33m)\u001b[0m\u001b[1;33m\u001b[0m\u001b[1;33m\u001b[0m\u001b[0m\n\u001b[0;32m     15\u001b[0m                 \u001b[0mbuild\u001b[0m\u001b[1;33m=\u001b[0m\u001b[1;33m[\u001b[0m\u001b[1;33m]\u001b[0m\u001b[1;33m\u001b[0m\u001b[1;33m\u001b[0m\u001b[0m\n\u001b[1;32m---> 16\u001b[1;33m                 \u001b[0mhumanlist\u001b[0m \u001b[1;33m=\u001b[0m \u001b[1;33m[\u001b[0m\u001b[0mx\u001b[0m \u001b[1;32mfor\u001b[0m \u001b[0mx\u001b[0m \u001b[1;32min\u001b[0m \u001b[0mhumanlist\u001b[0m \u001b[1;32mif\u001b[0m \u001b[0mx\u001b[0m \u001b[1;32mnot\u001b[0m \u001b[1;32min\u001b[0m \u001b[0mtemp\u001b[0m\u001b[1;33m]\u001b[0m\u001b[1;31m# 차집합처럼human-temp 해주기\u001b[0m\u001b[1;33m\u001b[0m\u001b[1;33m\u001b[0m\u001b[0m\n\u001b[0m\u001b[0;32m     17\u001b[0m         \u001b[1;32mif\u001b[0m \u001b[0mlen\u001b[0m\u001b[1;33m(\u001b[0m\u001b[0mhumanlist\u001b[0m\u001b[1;33m)\u001b[0m\u001b[1;33m==\u001b[0m\u001b[1;36m1\u001b[0m\u001b[1;33m:\u001b[0m\u001b[1;33m\u001b[0m\u001b[1;33m\u001b[0m\u001b[0m\n\u001b[0;32m     18\u001b[0m             \u001b[1;32mbreak\u001b[0m\u001b[1;33m\u001b[0m\u001b[1;33m\u001b[0m\u001b[0m\n",
      "\u001b[1;31mKeyboardInterrupt\u001b[0m: "
     ]
    }
   ],
   "source": [
    "def asdf(N,K):\n",
    "    import timeit\n",
    "    start_time = timeit.default_timer() \n",
    "    N,K = input(\"N K: \").split(\" \")\n",
    "    N=int(N)\n",
    "    K=int(K)\n",
    "    humanlist=list(range(1,N+1))\n",
    "    build =[]\n",
    "    temp=[]\n",
    "    while True:\n",
    "        for i in humanlist:\n",
    "            build.append(i)\n",
    "            if len(build)== K:\n",
    "                temp.append(build.pop())\n",
    "                build=[]\n",
    "                humanlist = [x for x in humanlist if x not in temp]# 차집합처럼human-temp 해주기\n",
    "        if len(humanlist)==1:\n",
    "            break\n",
    "    print(humanlist)\n",
    "    \n",
    "\n",
    "\n",
    "    terminate_time = timeit.default_timer()\n",
    "    print(\"%f초 걸렸습니다.\" % (terminate_time - start_time))\n",
    "\n",
    "    \n",
    "asdf(10000,6)"
   ]
  },
  {
   "cell_type": "code",
   "execution_count": null,
   "metadata": {},
   "outputs": [],
   "source": []
  },
  {
   "cell_type": "code",
   "execution_count": null,
   "metadata": {},
   "outputs": [],
   "source": []
  },
  {
   "cell_type": "code",
   "execution_count": null,
   "metadata": {},
   "outputs": [],
   "source": []
  },
  {
   "cell_type": "code",
   "execution_count": null,
   "metadata": {},
   "outputs": [],
   "source": []
  },
  {
   "cell_type": "code",
   "execution_count": null,
   "metadata": {},
   "outputs": [],
   "source": []
  },
  {
   "cell_type": "code",
   "execution_count": null,
   "metadata": {},
   "outputs": [],
   "source": []
  }
 ],
 "metadata": {
  "kernelspec": {
   "display_name": "Python 3",
   "language": "python",
   "name": "python3"
  },
  "language_info": {
   "codemirror_mode": {
    "name": "ipython",
    "version": 3
   },
   "file_extension": ".py",
   "mimetype": "text/x-python",
   "name": "python",
   "nbconvert_exporter": "python",
   "pygments_lexer": "ipython3",
   "version": "3.8.5"
  }
 },
 "nbformat": 4,
 "nbformat_minor": 4
}
